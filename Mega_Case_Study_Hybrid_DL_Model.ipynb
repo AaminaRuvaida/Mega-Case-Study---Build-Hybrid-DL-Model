{
  "nbformat": 4,
  "nbformat_minor": 0,
  "metadata": {
    "colab": {
      "provenance": []
    },
    "kernelspec": {
      "name": "python3",
      "display_name": "Python 3"
    },
    "language_info": {
      "name": "python"
    }
  },
  "cells": [
    {
      "cell_type": "markdown",
      "source": [
        "# Mega Case Study - Make a Hybrid Deep Learning Model"
      ],
      "metadata": {
        "id": "3SsynhU4ff5s"
      }
    },
    {
      "cell_type": "markdown",
      "source": [
        "## Part 1: Identify the Frauds with the SOM"
      ],
      "metadata": {
        "id": "D0Too1a-foZ0"
      }
    },
    {
      "cell_type": "markdown",
      "source": [
        "##### Importing the Libraries"
      ],
      "metadata": {
        "id": "XHJnnGU4f39O"
      }
    },
    {
      "cell_type": "code",
      "source": [
        "import numpy as np\n",
        "import pandas as pd\n",
        "import matplotlib.pyplot as plt"
      ],
      "metadata": {
        "id": "UQw3ld2hfla2"
      },
      "execution_count": 1,
      "outputs": []
    },
    {
      "cell_type": "markdown",
      "source": [
        "##### Importing the dataset"
      ],
      "metadata": {
        "id": "ZTPJhVj4g41N"
      }
    },
    {
      "cell_type": "code",
      "source": [
        "dataset = pd.read_csv('Credit_Card_Applications.csv')\n",
        "x = dataset.iloc[:, :-1].values\n",
        "y = dataset.iloc[:, -1].values"
      ],
      "metadata": {
        "id": "_RkpAvfFf5nS"
      },
      "execution_count": 2,
      "outputs": []
    },
    {
      "cell_type": "markdown",
      "source": [
        "##### Feature Scaling"
      ],
      "metadata": {
        "id": "rkWkghwXg1FM"
      }
    },
    {
      "cell_type": "code",
      "source": [
        "from sklearn.preprocessing import MinMaxScaler\n",
        "sc = MinMaxScaler(feature_range = (0, 1))\n",
        "x = sc.fit_transform(x)\n",
        "print(x)"
      ],
      "metadata": {
        "colab": {
          "base_uri": "https://localhost:8080/"
        },
        "id": "qOz5nCvAgHaf",
        "outputId": "9c03d401-ee53-44a3-b2ce-a0653cc4aa1a"
      },
      "execution_count": 3,
      "outputs": [
        {
          "output_type": "stream",
          "name": "stdout",
          "text": [
            "[[8.42681467e-01 1.00000000e+00 1.25263158e-01 ... 5.00000000e-01\n",
            "  5.00000000e-02 1.21200000e-02]\n",
            " [6.96090562e-01 0.00000000e+00 1.34135338e-01 ... 5.00000000e-01\n",
            "  8.00000000e-02 0.00000000e+00]\n",
            " [3.88981656e-01 0.00000000e+00 2.38045113e-01 ... 5.00000000e-01\n",
            "  1.40000000e-01 0.00000000e+00]\n",
            " ...\n",
            " [4.39420332e-01 0.00000000e+00 7.63909774e-02 ... 5.00000000e-01\n",
            "  5.00000000e-02 0.00000000e+00]\n",
            " [8.44034934e-01 0.00000000e+00 2.05563910e-01 ... 5.00000000e-01\n",
            "  6.00000000e-02 1.10000000e-04]\n",
            " [1.06907888e-01 1.00000000e+00 4.09774436e-01 ... 0.00000000e+00\n",
            "  2.80000000e-01 0.00000000e+00]]\n"
          ]
        }
      ]
    },
    {
      "cell_type": "markdown",
      "source": [
        "##### Training the SOM"
      ],
      "metadata": {
        "id": "d84M8bvDgyIv"
      }
    },
    {
      "cell_type": "code",
      "source": [
        "!pip install MiniSom\n",
        "from minisom import MiniSom"
      ],
      "metadata": {
        "colab": {
          "base_uri": "https://localhost:8080/"
        },
        "id": "YNAl5u4ngIZL",
        "outputId": "398d4824-3fea-4463-aeec-d2f7f403e60b"
      },
      "execution_count": 5,
      "outputs": [
        {
          "output_type": "stream",
          "name": "stdout",
          "text": [
            "Looking in indexes: https://pypi.org/simple, https://us-python.pkg.dev/colab-wheels/public/simple/\n",
            "Collecting MiniSom\n",
            "  Downloading MiniSom-2.3.0.tar.gz (8.8 kB)\n",
            "Building wheels for collected packages: MiniSom\n",
            "  Building wheel for MiniSom (setup.py) ... \u001b[?25l\u001b[?25hdone\n",
            "  Created wheel for MiniSom: filename=MiniSom-2.3.0-py3-none-any.whl size=9018 sha256=d27464dca1a46c80b50eef32131be4a1c2beaead3eab30de6817768794111710\n",
            "  Stored in directory: /root/.cache/pip/wheels/d4/ca/4a/488772b0399fec45ff53132ed14c948dec4b30deee3a532f80\n",
            "Successfully built MiniSom\n",
            "Installing collected packages: MiniSom\n",
            "Successfully installed MiniSom-2.3.0\n"
          ]
        }
      ]
    },
    {
      "cell_type": "code",
      "source": [
        "som = MiniSom(x = 10, y = 10, input_len = 15, sigma = 1.0, learning_rate = 0.5)\n",
        "som.random_weights_init(x)\n",
        "som.train_random(data = x, num_iteration = 100)"
      ],
      "metadata": {
        "id": "Oi1PvtwDgK0Y"
      },
      "execution_count": 7,
      "outputs": []
    },
    {
      "cell_type": "markdown",
      "source": [
        "##### Visualizing the Results"
      ],
      "metadata": {
        "id": "TREI2LKUgtiY"
      }
    },
    {
      "cell_type": "code",
      "source": [
        "from pylab import bone, pcolor, colorbar, plot, show\n",
        "bone()\n",
        "pcolor(som.distance_map().T)\n",
        "colorbar()\n",
        "markers = ['o', 's']\n",
        "colors = ['r', 'g']\n",
        "for i, X in enumerate(x):\n",
        "  w = som.winner(X)\n",
        "  plot(w[0] + 0.5,\n",
        "       w[1] + 0.5,\n",
        "       markers[y[i]],\n",
        "       markeredgecolor = colors[y[i]],\n",
        "       markerfacecolor = 'None',\n",
        "       markersize = 10,\n",
        "       markeredgewidth = 2)"
      ],
      "metadata": {
        "colab": {
          "base_uri": "https://localhost:8080/",
          "height": 269
        },
        "id": "8oFIVncBgP7k",
        "outputId": "b91a43f4-612c-48c4-cf8e-fe5bf6db1c33"
      },
      "execution_count": 8,
      "outputs": [
        {
          "output_type": "display_data",
          "data": {
            "text/plain": [
              "<Figure size 432x288 with 2 Axes>"
            ],
            "image/png": "[encoded data removed]"
          },
          "metadata": {
            "needs_background": "light"
          }
        }
      ]
    },
    {
      "cell_type": "markdown",
      "source": [
        "##### Finding the Frauds"
      ],
      "metadata": {
        "id": "t-7AH7EOgp9S"
      }
    },
    {
      "cell_type": "code",
      "source": [
        "mappings = som.win_map(x)\n",
        "frauds = np.concatenate((mappings[(8,6)], mappings[(1,2)], mappings[(2,2)]), axis = 0)\n",
        "frauds = sc.inverse_transform(frauds)"
      ],
      "metadata": {
        "id": "Aaa9YqPlgVct"
      },
      "execution_count": 9,
      "outputs": []
    },
    {
      "cell_type": "markdown",
      "source": [
        "# Part 2: Going from Unsupervised to Supervised Deep Learning Model"
      ],
      "metadata": {
        "id": "rPGRv47Rg_Kd"
      }
    },
    {
      "cell_type": "markdown",
      "source": [
        "### Creating the matrix of features"
      ],
      "metadata": {
        "id": "266cm3eHhMMt"
      }
    },
    {
      "cell_type": "code",
      "source": [
        "customers = dataset.iloc[:, 1:].values\n",
        "customers"
      ],
      "metadata": {
        "colab": {
          "base_uri": "https://localhost:8080/"
        },
        "id": "NembXXmignoW",
        "outputId": "b7bcd70d-8fd8-43e8-fb01-dfb4f24b7b53"
      },
      "execution_count": 10,
      "outputs": [
        {
          "output_type": "execute_result",
          "data": {
            "text/plain": [
              "array([[1.000e+00, 2.208e+01, 1.146e+01, ..., 1.000e+02, 1.213e+03,\n",
              "        0.000e+00],\n",
              "       [0.000e+00, 2.267e+01, 7.000e+00, ..., 1.600e+02, 1.000e+00,\n",
              "        0.000e+00],\n",
              "       [0.000e+00, 2.958e+01, 1.750e+00, ..., 2.800e+02, 1.000e+00,\n",
              "        0.000e+00],\n",
              "       ...,\n",
              "       [0.000e+00, 1.883e+01, 9.540e+00, ..., 1.000e+02, 1.000e+00,\n",
              "        1.000e+00],\n",
              "       [0.000e+00, 2.742e+01, 1.450e+01, ..., 1.200e+02, 1.200e+01,\n",
              "        1.000e+00],\n",
              "       [1.000e+00, 4.100e+01, 4.000e-02, ..., 5.600e+02, 1.000e+00,\n",
              "        1.000e+00]])"
            ]
          },
          "metadata": {},
          "execution_count": 10
        }
      ]
    },
    {
      "cell_type": "markdown",
      "source": [
        "### Creating the dependent variable"
      ],
      "metadata": {
        "id": "nvPn3mq6heAz"
      }
    },
    {
      "cell_type": "code",
      "source": [
        "is_fraud = np.zeros(len(dataset))\n",
        "for i in range(len(dataset)):\n",
        "  if dataset.iloc[i, 0] in frauds:\n",
        "    is_fraud[i] = 1"
      ],
      "metadata": {
        "id": "Be9I3B_-hYEZ"
      },
      "execution_count": 13,
      "outputs": []
    },
    {
      "cell_type": "markdown",
      "source": [
        "## Part 3: Artificial Neural Network"
      ],
      "metadata": {
        "id": "S-cmS6nAjDcc"
      }
    },
    {
      "cell_type": "markdown",
      "source": [
        "#### Feature Scaling"
      ],
      "metadata": {
        "id": "DaIasxpTjJMd"
      }
    },
    {
      "cell_type": "code",
      "source": [
        "from sklearn.preprocessing import StandardScaler\n",
        "sc=StandardScaler()\n",
        "customers=sc.fit_transform(customers)\n",
        "customers"
      ],
      "metadata": {
        "colab": {
          "base_uri": "https://localhost:8080/"
        },
        "id": "MDt2XoIbhxfZ",
        "outputId": "15280347-d18f-41f1-da33-4847dfcf16c5"
      },
      "execution_count": 15,
      "outputs": [
        {
          "output_type": "execute_result",
          "data": {
            "text/plain": [
              "array([[ 0.68873723, -0.80105183,  1.34711063, ..., -0.48835847,\n",
              "         0.03738039, -0.89530251],\n",
              "       [-1.45193254, -0.75124044,  0.45054795, ..., -0.13959116,\n",
              "        -0.19541334, -0.89530251],\n",
              "       [-1.45193254, -0.16785619, -0.60482292, ...,  0.55794344,\n",
              "        -0.19541334, -0.89530251],\n",
              "       ...,\n",
              "       [-1.45193254, -1.07543661,  0.96114643, ..., -0.48835847,\n",
              "        -0.19541334,  1.11694091],\n",
              "       [-1.45193254, -0.35021653,  1.95822062, ..., -0.3721027 ,\n",
              "        -0.19330052,  1.11694091],\n",
              "       [ 0.68873723,  0.79628971, -0.94857229, ...,  2.18552419,\n",
              "        -0.19541334,  1.11694091]])"
            ]
          },
          "metadata": {},
          "execution_count": 15
        }
      ]
    },
    {
      "cell_type": "markdown",
      "source": [
        "### Building the ANN"
      ],
      "metadata": {
        "id": "QRVGSraRjSSG"
      }
    },
    {
      "cell_type": "markdown",
      "source": [
        "#### Importing the Tensorflow Library"
      ],
      "metadata": {
        "id": "a-FMzKCwjWRg"
      }
    },
    {
      "cell_type": "code",
      "source": [
        "import tensorflow as tf"
      ],
      "metadata": {
        "id": "zmclthyuiss5"
      },
      "execution_count": 16,
      "outputs": []
    },
    {
      "cell_type": "markdown",
      "source": [
        "### Initializing the ANN"
      ],
      "metadata": {
        "id": "qBAP3wAWjhBM"
      }
    },
    {
      "cell_type": "code",
      "source": [
        "ann=tf.keras.models.Sequential()"
      ],
      "metadata": {
        "id": "iLUUHSsbjOim"
      },
      "execution_count": 17,
      "outputs": []
    },
    {
      "cell_type": "markdown",
      "source": [
        "### Adding the input layer and the first hidden layer"
      ],
      "metadata": {
        "id": "47B7nWE7joTU"
      }
    },
    {
      "cell_type": "code",
      "source": [
        "ann.add(tf.keras.layers.Dense(units=2,activation='relu'))"
      ],
      "metadata": {
        "id": "u_sC8AgIjiPn"
      },
      "execution_count": 18,
      "outputs": []
    },
    {
      "cell_type": "markdown",
      "source": [
        "### Adding the output layer"
      ],
      "metadata": {
        "id": "EmlCIMGGjw9X"
      }
    },
    {
      "cell_type": "code",
      "source": [
        "ann.add(tf.keras.layers.Dense(units=1,activation='sigmoid'))"
      ],
      "metadata": {
        "id": "_o8mapUDjuCv"
      },
      "execution_count": 19,
      "outputs": []
    },
    {
      "cell_type": "markdown",
      "source": [
        "### Compiling the ANN"
      ],
      "metadata": {
        "id": "V0GguaR3j4u0"
      }
    },
    {
      "cell_type": "code",
      "source": [
        "ann.compile(optimizer='adam',loss='binary_crossentropy',metrics=['accuracy'])"
      ],
      "metadata": {
        "id": "e9dPyAVWj0YK"
      },
      "execution_count": 20,
      "outputs": []
    },
    {
      "cell_type": "code",
      "source": [
        "ann.fit(customers,is_fraud,batch_size=1,epochs=2)"
      ],
      "metadata": {
        "colab": {
          "base_uri": "https://localhost:8080/"
        },
        "id": "kqt_BG_pj7Dj",
        "outputId": "72344e18-3f43-4059-831f-bc722d75f2fa"
      },
      "execution_count": 21,
      "outputs": [
        {
          "output_type": "stream",
          "name": "stdout",
          "text": [
            "Epoch 1/2\n",
            "690/690 [==============================] - 1s 981us/step - loss: 0.4234 - accuracy: 0.9609\n",
            "Epoch 2/2\n",
            "690/690 [==============================] - 1s 965us/step - loss: 0.2604 - accuracy: 0.9609\n"
          ]
        },
        {
          "output_type": "execute_result",
          "data": {
            "text/plain": [
              "<keras.callbacks.History at 0x7f4b11f94790>"
            ]
          },
          "metadata": {},
          "execution_count": 21
        }
      ]
    },
    {
      "cell_type": "markdown",
      "source": [
        "## Predicting the Probabilities of Fraud"
      ],
      "metadata": {
        "id": "r-3Phm0pkRkg"
      }
    },
    {
      "cell_type": "code",
      "source": [
        "y_pred = ann.predict(customers)\n",
        "y_pred = np.concatenate((dataset.iloc[:, 0:1].values, y_pred), axis = 1)\n",
        "y_pred"
      ],
      "metadata": {
        "colab": {
          "base_uri": "https://localhost:8080/"
        },
        "id": "kiNiZQk3kFL2",
        "outputId": "e066df0b-4489-45be-c745-d83706645124"
      },
      "execution_count": 22,
      "outputs": [
        {
          "output_type": "stream",
          "name": "stdout",
          "text": [
            "22/22 [==============================] - 0s 876us/step\n"
          ]
        },
        {
          "output_type": "execute_result",
          "data": {
            "text/plain": [
              "array([[1.57761560e+07, 3.60075980e-02],\n",
              "       [1.57395480e+07, 2.02213854e-01],\n",
              "       [1.56628540e+07, 1.65866449e-01],\n",
              "       ...,\n",
              "       [1.56754500e+07, 1.07149087e-01],\n",
              "       [1.57764940e+07, 3.06868684e-02],\n",
              "       [1.55924120e+07, 1.13605723e-01]])"
            ]
          },
          "metadata": {},
          "execution_count": 22
        }
      ]
    },
    {
      "cell_type": "code",
      "source": [
        "y_pred = y_pred[y_pred[:, 1].argsort()]\n",
        "print(y_pred)"
      ],
      "metadata": {
        "colab": {
          "base_uri": "https://localhost:8080/"
        },
        "id": "Lx6uRF42k-3G",
        "outputId": "bfaac25a-ab2f-4d28-e89b-29b47d27d825"
      },
      "execution_count": 23,
      "outputs": [
        {
          "output_type": "stream",
          "name": "stdout",
          "text": [
            "[[1.56214230e+07 1.17082288e-06]\n",
            " [1.57901130e+07 3.48353533e-05]\n",
            " [1.55836800e+07 1.02522119e-03]\n",
            " ...\n",
            " [1.57921070e+07 3.22038025e-01]\n",
            " [1.56119730e+07 3.22038025e-01]\n",
            " [1.57815740e+07 3.22038025e-01]]\n"
          ]
        }
      ]
    },
    {
      "cell_type": "markdown",
      "source": [
        "Here is the predicted probabilities of Fradulent Customers."
      ],
      "metadata": {
        "id": "G9u5L0ISl9Rw"
      }
    }
  ]
}